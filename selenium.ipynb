{
 "cells": [
  {
   "cell_type": "code",
   "id": "initial_id",
   "metadata": {
    "collapsed": true,
    "ExecuteTime": {
     "end_time": "2025-01-11T12:05:19.344505Z",
     "start_time": "2025-01-11T12:05:19.263468Z"
    }
   },
   "source": [
    "from selenium import webdriver\n",
    "from selenium.webdriver.common.keys import Keys\n",
    "from selenium.webdriver.common.by import By"
   ],
   "outputs": [],
   "execution_count": 3
  },
  {
   "metadata": {
    "ExecuteTime": {
     "end_time": "2025-01-11T12:05:33.477610Z",
     "start_time": "2025-01-11T12:05:28.328284Z"
    }
   },
   "cell_type": "code",
   "source": "driver = webdriver.Chrome()",
   "id": "5885b2ed6315a2bc",
   "outputs": [],
   "execution_count": 4
  },
  {
   "metadata": {
    "ExecuteTime": {
     "end_time": "2025-01-11T12:49:13.498120Z",
     "start_time": "2025-01-11T12:49:10.095665Z"
    }
   },
   "cell_type": "code",
   "source": "driver.get(\"https://www.booking.com/searchresults.html?ss=Mathura%2C+Uttar+Pradesh%2C+India&efdco=1&label=gen173nr-1FCAEoggI46AdIM1gEaGyIAQGYATG4ARfIAQzYAQHoAQH4AQKIAgGoAgO4ApjOibwGwAIB0gIkYTBmOWRjZGQtZjJmOC00M2VjLWFhZTEtOWZjMzEyYTFkN2Ew2AIF4AIB&aid=304142&lang=en-us&sb=1&src_elem=sb&src=index&dest_id=-2104211&dest_type=city&ac_position=0&ac_click_type=b&ac_langcode=en&ac_suggestion_list_length=5&search_selected=true&search_pageview_id=bcd1594c1a93021e&ac_meta=GhBiY2QxNTk0YzFhOTMwMjFlIAAoATICZW46B21hdGh1cmFAAEoAUAA%3D&checkin=2025-01-11&checkout=2025-01-12&group_adults=2&no_rooms=1&group_children=0\")",
   "id": "ad62db1dcbe85f91",
   "outputs": [],
   "execution_count": 6
  },
  {
   "metadata": {
    "ExecuteTime": {
     "end_time": "2025-01-11T12:52:50.440132Z",
     "start_time": "2025-01-11T12:52:50.233934Z"
    }
   },
   "cell_type": "code",
   "source": [
    "# driver.find_element(By.CLASS_NAME, \"\n",
    "# class='a83ed08757 c21c56c305 bf0537ecb5 f671049264 af7297d90d c0e0affd09'\n",
    "driver.find_element(By.CSS_SELECTOR, \"button[class='a83ed08757 c21c56c305 bf0537ecb5 f671049264 af7297d90d c0e0affd09']\").click()"
   ],
   "id": "437aef698b1e141",
   "outputs": [],
   "execution_count": 13
  },
  {
   "metadata": {},
   "cell_type": "code",
   "outputs": [],
   "execution_count": null,
   "source": "",
   "id": "cdfedae65cadf344"
  }
 ],
 "metadata": {
  "kernelspec": {
   "display_name": "Python 3",
   "language": "python",
   "name": "python3"
  },
  "language_info": {
   "codemirror_mode": {
    "name": "ipython",
    "version": 2
   },
   "file_extension": ".py",
   "mimetype": "text/x-python",
   "name": "python",
   "nbconvert_exporter": "python",
   "pygments_lexer": "ipython2",
   "version": "2.7.6"
  }
 },
 "nbformat": 4,
 "nbformat_minor": 5
}
