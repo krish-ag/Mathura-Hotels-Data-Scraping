{
 "cells": [
  {
   "cell_type": "code",
   "execution_count": 23,
   "id": "initial_id",
   "metadata": {
    "collapsed": true
   },
   "outputs": [],
   "source": [
    "const a = await fetch(\"https://mapi.makemytrip.com/clientbackend/cg/search-hotels/DESKTOP/2?cityCode=CTXAR&language=eng&region=in&currency=INR&idContext=B2C&countryCode=IN&requestId=72315433-458b-44a3-8e65-49db6798df1a\", {\n",
    "    \"headers\": {\n",
    "      \"accept\": \"application/json\",\n",
    "      \"accept-language\": \"en-US,en;q=0.9,en-IN;q=0.8\",\n",
    "      \"cache-control\": \"no-cache\",\n",
    "      \"content-type\": \"application/json\",\n",
    "      \"currency\": \"INR\",\n",
    "      \"language\": \"eng\",\n",
    "      \"os\": \"desktop\",\n",
    "      \"pragma\": \"no-cache\",\n",
    "      \"priority\": \"u=1, i\",\n",
    "      \"region\": \"in\",\n",
    "      \"sec-ch-ua\": \"\\\"Microsoft Edge\\\";v=\\\"131\\\", \\\"Chromium\\\";v=\\\"131\\\", \\\"Not_A Brand\\\";v=\\\"24\\\"\",\n",
    "      \"sec-ch-ua-mobile\": \"?0\",\n",
    "      \"sec-ch-ua-platform\": \"\\\"Windows\\\"\",\n",
    "      \"sec-fetch-dest\": \"empty\",\n",
    "      \"sec-fetch-mode\": \"cors\",\n",
    "      \"sec-fetch-site\": \"same-site\",\n",
    "      \"server\": \"b2c\",\n",
    "      \"tid\": \"avc\",\n",
    "      \"user-currency\": \"INR\",\n",
    "      \"vid\": \"d43b092e-afdb-4c06-aa18-a1843820785b\",\n",
    "      \"visitor-id\": \"d43b092e-afdb-4c06-aa18-a1843820785b\",\n",
    "      \"cookie\": \"isGdprRegion=0; ccde=IN; country=IN; userCurrency=INR; dvid=10796d34-ecfc-4a74-ae40-679a5504eb4d; lang=eng; referrer=%7B%22referer%22%3A%22https%3A%2F%2Fwww.google.com%2F%22%7D; bm_ss=ab8e18ef4e; AMCVS_1E0D22CE527845790A490D4D%40AdobeOrg=1; _abck=8B84FEE9AABE36FE0C9F5693357FE3F5~0~YAAQ6txVuF4H9kOUAQAA+3sRVQ0+2D1obE/HqV8V01U59PiJjbjar/7hOXpkySy5g9nvsroAwm+DwlZiF7IEjvgq5mDKrSzxUBu2aLJdryeIq7uTLmnyQHRbI57uoiDOtdKISB7h+qTSBO1g+bPXdhWIi73alWho/vL83+cLrER6BA0Gkfv6HDvtlv80KR0XGgo13Y5L9fMSe7GNifATBF4pzj6hOgUDhZq5IuKzr2NeNyLgdsMCr2ZVdUeSHl6sjHomgcquYOPg9YqqTNfuHsDi9avT5ql/1h2aASggm/ecJKWbNVAalMIU5ObQrIfJtUiYU8VhEtn2PcsrlGFtK7P0bZzW233pidp9+8Qjv7r7cpUp9NSLDRVVyVNa4qd2eWBhpuyQR8eRIHwZh9a8xkZtkNib5NCT8gi7oJtMbJn7YFureCwvMVCIXeRzVGrZPcNfCBJgR5sUC9t7fuh31HTULE7xZCGNmxEXhhgQ0vBx6SuovA==~-1~-1~-1; mcid=d43b092e-afdb-4c06-aa18-a1843820785b; bm_lso=718F83D5579602E53ED3067A43328C254DDD2603E32B8CCDCE0C276998F13E43~YAAQ6txVuFoH9kOUAQAAM3sRVQJg3Rc0rKQVWN/43LmM7vaPqLQ2CkoHxHfaLsqwofV4lM3y0mt9QWefZFbJADlrPYv2+FU+XHy8WONBpsh+CIVCY9L7h4Bm7bQ66BoZBD9JaSUWfhTLV99vvzgmvYJGzLuE+ghPQqqrQrFF6sAzFDxB2QdiKFyMoFq68c43Lrc7bhgBzmMRZU1zfdb5qnb6ngBB1d54/UirDyKIqyp48hWxtwqOsG2bEGjWXtgXcp1BQhU0jQ8lcSMEeTwhhK38T0s4VimD8Xb61yNHRxTh4AB5nwQcKSp3mnr/4/dH2xmO+9uo4lpU2X7FMxwJYv5y0KLgYOo2W2H7fqnSdmHKd6qarG+VcOZJCsasRGRD/M+9IdSXeF8t54klXHMp8gYBuPDSHSmmZxms1D8kcxYJT8XZ7fQ4sPuEdNUtuD3uyGlh76R/jvOWb8bR6+dIQRbcdxK+x4u1A2x7qju2zTpK83T8MpepjsT1Kw==^1736593998799; _adck_id=7e082d14066147a244381b6bfc5d970d9f7ca125ac7f96c341b6dc08ef93c117; AMCV_1E0D22CE527845790A490D4D%40AdobeOrg=-1712354808%7CMCIDTS%7C20100%7CMCMID%7C73334841488148951877815034378287591489%7CMCAID%7CNONE%7CMCOPTOUT-1736601199s%7CNONE%7CvVersion%7C4.3.0; bm_sv=743243C811B7E749F3E9BAF6E26AFDE1~YAAQ6txVuPwI9kOUAQAATt0RVRrV8bOQAT4LUDuvQv7VAumJ7bLdx1H7oN2qaq8zDuXqPZRQc7+u90CbgSxDJM5fGMpbrclXELM+xkLx+oidPDbfTHtXkWM7FCEEEy6ZNVX+vTI7QUDomnMHMFp0/peDEyBoJBeLrczA4S+EzZMoxRGOThsJyBzzsDMadd2nEVmlAqoIF0M28KCGaXNOeW/yI5k5elCBTibuh7pJBf20Zthr0/3/5e6hzQLSILHp74eXHw==~1; bm_mi=0BEBFB3AD6D9CB2484ED3A301345C6EB~YAAQ6txVuIUJ9kOUAQAAjwYSVRq7l48lt+NgPSJHaEv3g2/GVxVQXinC9X++/kFVA9Pu3j7PB/R7VQJZNs7pUBxanFV3wFU8kt5Jw1jl72V3CrHJoN9xnzIPakkkV9848us9HeJVw1f2YcIXSkUMHjTqCu7KGvmgqvtqjqJ1EwWleRoXC8XaGb5io8Wq6WGUq3XKzS2/JfsF3kOvo9DXhGavbA12ERzGjjLiwdz98hcIdri3v1d/HvoxETTb27VkNBUoMaw6v+MwCNGl3MiaMZBzlZeNTiEbFO7s2dKluyNZzmgyORQRa6hCTvbb8ju8zljrqUSmMBgJSCf6jh0WPRVodlN/o4g=~1; bm_so=6C1B0BADB6C5CDB6682FE89A78F83F3584E3FCBCB762945948245569425ABE35~YAAQ6txVuIcJ9kOUAQAAjwYSVQJsBtQpXtmDsy5kTLNA3iMyUdWwEYiud+2fLu52rYVU9WNacrpfjB1O/hEK5iuIBBu1sLgkZkYErhXUFeaAFd+BgxMAORtHMuGY8gkNGGjNt2oprrl+CWP2ySgyX9XoEpYlJhWXL9SfVRVOE2Lqoa8/eay6bhuYybyN1h1Dg9qVJEehdKIqKiFH9fLqEeMbb+K5Q8aoHQuwqI1cRvRkoYgVo4nrl962Cyg/74weAvKEldB46B3miK7YA3hgh1eUiKJDpAlwwIBGePdUdCKgwVE4aKEVnFjODHnFZ2f8Xm7iCfyzRJEmaoEWtTvRWDLRIJ0eEtlY1UkNtsCCyNAtfEcTY4KGRNKFmw6DPmMQM9qyf7nd3JVbyMb50XTDouiqVfWyRUOioRTZoJN/YvOxrIFN+1CkyvPhC9xanX9zA0p3uwEn8Du+5e6N2MF1Ec3JlmrKeJA7l2R8NJ5dQ98YbqQdVSrqw6zVoA==; bm_sz=AC71612119EAA8C2D249864490F227A8~YAAQ6txVuIgJ9kOUAQAAjwYSVRrGjMDHg5u+rdiUuSZsqeN4RWxqKhhUlA7iKzCMN4k8na2nKuCPsNJ3TT78zIAKFopOqOzkfv/FCuIvHqbn6/Gv93Ovk2S4jYHmcVKqpus01zMUpFkYNAnhOCItW7LPmjN8Tg/QD422csDdGOGXLjOq06rLmh5QzpA7hRwMtWQe81shFRJ+aBE3uqxDD37m6ccHfun4dzneGdsV8/F5I7rAZ2fr0rjaCdTs/9a6JjDEifkwAQxY3xqnDcuCKizMeRXt6lBaWlSAIiCKVlZBVkpuZf2AnSxdHN1afCsYaXSaqFXWzxXZSsg2LzrYjiZi+PwbyHWuGvDQTrMb8oqeNI459LxJWrCAXxIXYxH/YbDQQXRQaT6970f1PTJpkMkt3tOXDp+uzPrY9s55XUeGW4FaxsqyY10PFj0EgUQX3ScTUnwHT7Gz~3551302~4338999; ak_bmsc=3519666AF0F05719F542A73D1905577F~000000000000000000000000000000~YAAQz68sMYxmH0SUAQAAPx0TVRoGxA8pZZr1cI29SQ/4YDrtNvKBKRRUYrEBPjtQPNJoTtCy5lLWvKgw6nnZe7Nsoa538zPEODBP3U/Nw+pzgnU07LEiBoq57ppfyfOwM9oy3v9TZTFDaDBFV8R2oM+WueLfBEx0/vf52R5bKmas4y1uWbuNzvqKkVVUJ0Y4uxPMaH1oAsAVUu8KJDdkSntcSYbQSdMIMIy2pggy+Wv9uZoeZlTAuecO/UZWVoimqkbpeCkCPUIWzy/9y8/PHJQ1ZKpmE4F9QwyPPG7KCViHFFlCtdeDaZ3S9x5VHSY3dTkfKDWKGMfEK4YKL9qgrtYNKaQidKa/n7YjaMaaDKgldAKrsNojkMlZq0aDGPJ1W3I7OBv+OH1pj8SfucM6Kia8dDfqGB7MT/ryuFCuNKJOUtWyUmDfsCv6+c6P2k3IB+uIN6HRodVLOK0fCr2mP7Ikp8/1XR3tnA0f3G+9oDc=; s_pers=%20s_vnum%3D1738348200047%2526vn%253D1%7C1738348200047%3B%20s_depth%3D2%7C1736595799948%3B%20s_lv%3D1736594177283%7C1831202177283%3B%20s_lv_s%3DFirst%2520Visit%7C1736595977283%3B%20gpv_pn%3Dfunnel%253Adomestic%2520hotels%253Alisting%7C1736595977283%3B%20s_invisit%3Dtrue%7C1736595977284%3B%20s_nr3650%3D1736594177284-New%7C2051954177284%3B%20s_nr30%3D1736594177284-New%7C1739186177284%3B%20s_nr120%3D1736594177285-New%7C1746962177285%3B%20s_nr7%3D1736594177285-New%7C1737198977285%3B; MMYTUUID=24617072-3124-5834-3747-412b30362466.1736594522425160; bm_s=YAAQh9xVuC3/YLiTAQAABIQZVQIoMPgdIkkjnegIszbo5z6yaVSYSDOFk27N39Fm22he3NnMFefTQgGPg/LG8LcfCO6xDxHcoIIGifhpM8/GC5dJrETyQmisVeMBqIKAY6rbEJh7M9ChA4LXXv/CTUsCsRDiXzvtiAUI4xZW0KN9/AfKy0tlnCr1VVBctCGIcBdgMXcLQc0ngsVfdaX+SP6Z6lXP8/EhwlSk4O3ptDtLT7yI9yTUt41+5hVT/YKWby2tTRD7bJeHi2nvDiR3tuzbJZiMggEwc4tJC4r6jt1qm4ly1LLPUMcrHGqiNy4aIqJiK2y8DHm0ctm+UIxAsf/Ra7yjhbtwXjg2dQ4bthgaakBK8azP7mYk110PM9rBSFwOKMwwImKXoa65buWFhxjIXVjpYtzBCkGuOM6/R1fkeY/waJpIv2QHgMnqTQ9AM+txL9hTfYPi6b03EZxUEPlYfTwPWMg=; s_sess=%20s_cc%3Dtrue%3B%20s_sq%3D%3B%20tp%3D57655%3B%20s_ppv%3Dfunnel%25253Adomestic%252520hotels%25253Alisting%252C83%252C83%252C47987%3B; visitNumber=%7B%22number%22%3A1%2C%22time%22%3A1736594523723%7D\",\n",
    "      \"Referer\": \"https://www.makemytrip.com/\",\n",
    "      \"Referrer-Policy\": \"strict-origin-when-cross-origin\"\n",
    "    },\n",
    "    \"body\": \"{\\\"deviceDetails\\\":{\\\"appVersion\\\":\\\"131.0.0.0\\\",\\\"deviceId\\\":\\\"10796d34-ecfc-4a74-ae40-679a5504eb4d\\\",\\\"bookingDevice\\\":\\\"DESKTOP\\\",\\\"networkType\\\":\\\"WiFi\\\",\\\"deviceType\\\":\\\"DESKTOP\\\",\\\"deviceName\\\":null},\\\"filterRemovedCriteria\\\":null,\\\"searchCriteria\\\":{\\\"checkIn\\\":\\\"2025-01-15\\\",\\\"checkOut\\\":\\\"2025-01-16\\\",\\\"limit\\\":10,\\\"roomStayCandidates\\\":[{\\\"rooms\\\":1,\\\"adultCount\\\":1,\\\"childAges\\\":[]}],\\\"countryCode\\\":\\\"IN\\\",\\\"cityCode\\\":\\\"CTXAR\\\",\\\"locationId\\\":\\\"CTXAR\\\",\\\"locationType\\\":\\\"city\\\",\\\"currency\\\":\\\"INR\\\",\\\"preAppliedFilter\\\":false,\\\"userSearchType\\\":\\\"city\\\",\\\"lastHotelId\\\":\\\"202311201803467483\\\",\\\"lastHotelCategory\\\":\\\"NEARBY_HOTELS\\\",\\\"personalizedSearch\\\":true,\\\"nearBySearch\\\":false,\\\"totalHotelsShown\\\":273,\\\"personalCorpBooking\\\":false,\\\"rmDHS\\\":false,\\\"lastFetchedWindowInfo\\\":\\\"111011011011110101000110001011#402#432#true\\\",\\\"guestHouseAvailable\\\":false},\\\"requestDetails\\\":{\\\"visitorId\\\":\\\"d43b092e-afdb-4c06-aa18-a1843820785b\\\",\\\"visitNumber\\\":1,\\\"trafficSource\\\":null,\\\"funnelSource\\\":\\\"HOTELS\\\",\\\"idContext\\\":\\\"B2C\\\",\\\"pageContext\\\":\\\"LISTING\\\",\\\"channel\\\":\\\"B2Cweb\\\",\\\"journeyId\\\":\\\"-39801111410796d34-ecfc-4a74-ae40-679a5504eb4d\\\",\\\"requestId\\\":\\\"72315433-458b-44a3-8e65-49db6798df1a\\\",\\\"couponCount\\\":2,\\\"seoCorp\\\":false,\\\"loggedIn\\\":false,\\\"forwardBookingFlow\\\":false},\\\"featureFlags\\\":{\\\"soldOut\\\":true,\\\"staticData\\\":true,\\\"extraAltAccoRequired\\\":false,\\\"freeCancellation\\\":true,\\\"coupon\\\":true,\\\"walletRequired\\\":true,\\\"poisRequiredOnMap\\\":true,\\\"mmtPrime\\\":false,\\\"checkAvailability\\\":true,\\\"reviewSummaryRequired\\\":true,\\\"persuasionSeg\\\":\\\"P1000\\\",\\\"persuasionsRequired\\\":true,\\\"persuasionsEngineHit\\\":true,\\\"shortlistingRequired\\\":false,\\\"similarHotel\\\":false,\\\"personalizedSearch\\\":true,\\\"originListingMap\\\":false,\\\"selectiveHotels\\\":false,\\\"seoDS\\\":false,\\\"flashDealClaimed\\\":false,\\\"showRushDealsBottomSheet\\\":true,\\\"persuasionSuppression\\\":false},\\\"imageDetails\\\":{\\\"types\\\":[\\\"professional\\\"],\\\"categories\\\":[{\\\"type\\\":\\\"H\\\",\\\"count\\\":1,\\\"height\\\":162,\\\"width\\\":243,\\\"imageFormat\\\":\\\"webp\\\"}]},\\\"reviewDetails\\\":{\\\"otas\\\":[\\\"MMT\\\",\\\"TA\\\",\\\"MANUAL\\\"],\\\"tagTypes\\\":[\\\"BASE\\\",\\\"WHAT_GUESTS_SAY\\\"]},\\\"filterCriteria\\\":[],\\\"matchMakerDetails\\\":{},\\\"sortCriteria\\\":{\\\"field\\\":\\\"price\\\",\\\"order\\\":\\\"desc\\\"},\\\"expData\\\":\\\"{APE:10,PAH:5,PAH5:T,WPAH:F,BNPL:T,MRS:T,PDO:PN,MCUR:T,ADDON:T,CHPC:T,AARI:T,NLP:Y,RCPN:T,PLRS:T,MMRVER:V3,BLACK:T,IAO:F,BNPL0:T,EMIDT:1,HAFC:T,ALC:T,LSTNRBY:T,HIS:DEFAULT,HFC:F,VIDEO:0,MLOS:T,CV2:T,SOU:T,APT:T,AIP:T,PERNEW:T,RTBC:T,FLTRPRCBKT:T,UGCV2:T,CRF:B,GALLERYV2:T}\\\",\\\"appliedBatchKeys\\\":[],\\\"userLocation\\\":{\\\"city\\\":\\\"CTBOM\\\",\\\"state\\\":\\\"STMHRA\\\",\\\"country\\\":\\\"IN\\\"},\\\"hotelHighlightCities\\\":[\\\"DUBW\\\",\\\"NYC\\\"]}\",\n",
    "    \"method\": \"POST\"\n",
    "  });"
   ]
  },
  {
   "cell_type": "code",
   "execution_count": 31,
   "id": "00946548",
   "metadata": {},
   "outputs": [],
   "source": [
    "import axios from \"https://deno.land/x/axiod/mod.ts\";\n"
   ]
  },
  {
   "cell_type": "code",
   "execution_count": 87,
   "id": "0082cb19",
   "metadata": {},
   "outputs": [],
   "source": [
    "const headers = {\n",
    "    \"headers\": {\n",
    "      \"accept\": \"application/json\",\n",
    "      \"accept-language\": \"en-US,en;q=0.9,en-IN;q=0.8\",\n",
    "      \"cache-control\": \"no-cache\",\n",
    "      \"content-type\": \"application/json\",\n",
    "      \"currency\": \"INR\",\n",
    "      \"language\": \"eng\",\n",
    "      \"os\": \"desktop\",\n",
    "      \"pragma\": \"no-cache\",\n",
    "      \"priority\": \"u=1, i\",\n",
    "      \"region\": \"in\",\n",
    "      \"sec-ch-ua\": \"\\\"Microsoft Edge\\\";v=\\\"131\\\", \\\"Chromium\\\";v=\\\"131\\\", \\\"Not_A Brand\\\";v=\\\"24\\\"\",\n",
    "      \"sec-ch-ua-mobile\": \"?0\",\n",
    "      \"sec-ch-ua-platform\": \"\\\"Windows\\\"\",\n",
    "      \"sec-fetch-dest\": \"empty\",\n",
    "      \"sec-fetch-mode\": \"cors\",\n",
    "      \"sec-fetch-site\": \"same-site\",\n",
    "      \"server\": \"b2c\",\n",
    "      \"tid\": \"avc\",\n",
    "      \"user-currency\": \"INR\",\n",
    "      \"vid\": \"d43b092e-afdb-4c06-aa18-a1843820785b\",\n",
    "      \"visitor-id\": \"d43b092e-afdb-4c06-aa18-a1843820785b\",\n",
    "      \"cookie\": \"isGdprRegion=0; ccde=IN; country=IN; userCurrency=INR; dvid=10796d34-ecfc-4a74-ae40-679a5504eb4d; lang=eng; referrer=%7B%22referer%22%3A%22https%3A%2F%2Fwww.google.com%2F%22%7D; bm_ss=ab8e18ef4e; AMCVS_1E0D22CE527845790A490D4D%40AdobeOrg=1; mcid=d43b092e-afdb-4c06-aa18-a1843820785b; _adck_id=7e082d14066147a244381b6bfc5d970d9f7ca125ac7f96c341b6dc08ef93c117; bm_sv=743243C811B7E749F3E9BAF6E26AFDE1~YAAQ6txVuPwI9kOUAQAATt0RVRrV8bOQAT4LUDuvQv7VAumJ7bLdx1H7oN2qaq8zDuXqPZRQc7+u90CbgSxDJM5fGMpbrclXELM+xkLx+oidPDbfTHtXkWM7FCEEEy6ZNVX+vTI7QUDomnMHMFp0/peDEyBoJBeLrczA4S+EzZMoxRGOThsJyBzzsDMadd2nEVmlAqoIF0M28KCGaXNOeW/yI5k5elCBTibuh7pJBf20Zthr0/3/5e6hzQLSILHp74eXHw==~1; bm_mi=0BEBFB3AD6D9CB2484ED3A301345C6EB~YAAQ6txVuIUJ9kOUAQAAjwYSVRq7l48lt+NgPSJHaEv3g2/GVxVQXinC9X++/kFVA9Pu3j7PB/R7VQJZNs7pUBxanFV3wFU8kt5Jw1jl72V3CrHJoN9xnzIPakkkV9848us9HeJVw1f2YcIXSkUMHjTqCu7KGvmgqvtqjqJ1EwWleRoXC8XaGb5io8Wq6WGUq3XKzS2/JfsF3kOvo9DXhGavbA12ERzGjjLiwdz98hcIdri3v1d/HvoxETTb27VkNBUoMaw6v+MwCNGl3MiaMZBzlZeNTiEbFO7s2dKluyNZzmgyORQRa6hCTvbb8ju8zljrqUSmMBgJSCf6jh0WPRVodlN/o4g=~1; ak_bmsc=3519666AF0F05719F542A73D1905577F~000000000000000000000000000000~YAAQz68sMYxmH0SUAQAAPx0TVRoGxA8pZZr1cI29SQ/4YDrtNvKBKRRUYrEBPjtQPNJoTtCy5lLWvKgw6nnZe7Nsoa538zPEODBP3U/Nw+pzgnU07LEiBoq57ppfyfOwM9oy3v9TZTFDaDBFV8R2oM+WueLfBEx0/vf52R5bKmas4y1uWbuNzvqKkVVUJ0Y4uxPMaH1oAsAVUu8KJDdkSntcSYbQSdMIMIy2pggy+Wv9uZoeZlTAuecO/UZWVoimqkbpeCkCPUIWzy/9y8/PHJQ1ZKpmE4F9QwyPPG7KCViHFFlCtdeDaZ3S9x5VHSY3dTkfKDWKGMfEK4YKL9qgrtYNKaQidKa/n7YjaMaaDKgldAKrsNojkMlZq0aDGPJ1W3I7OBv+OH1pj8SfucM6Kia8dDfqGB7MT/ryuFCuNKJOUtWyUmDfsCv6+c6P2k3IB+uIN6HRodVLOK0fCr2mP7Ikp8/1XR3tnA0f3G+9oDc=; _abck=8B84FEE9AABE36FE0C9F5693357FE3F5~0~YAAQoNxVuMjTd0CUAQAAuqIwVQ0YsxY4BwcdmFkI5BToOX/Wq/P1bG+VEOiMm6UOnto5dddjF9Yq7auL57zPEr4s/SDzKuu7mvc+WDeulh2+z9XPG23QLQp6aoEMGHacdKvRkNVLKKSdnkA+GgWAMcY6V/uyw/rOotRRS2KqD06vGRqg3XW1M5AZDTUuNUCm9x25HynnL83wkWpls+vUV168sozjntz2dDM9oOb537VHlIpESeyWuIW8gKMmfVSEzsTWgNfpQOosQukAw1lhtU1aTSmL6nrQlLFCKYLYMxtA2kvzFh2LSsjGIj8bvwSdV5UTshtRk2+f7VOHOEnA/zJAeEn2k0kmwIYnBhvSMre4RbVW6YxYAsa04YyhbXsEfti7RHDPJzQ5s3Qgrd3iEe2C3ZHTyeSiy+/FTB52klK2Jg+ag0EJyd0MK0YMFVzng70bCJt9MI2C0EvJJMbwQ8tXtCOZ9bTrA2MZAGmzaOdN3w4uOQ==~-1~-1~-1; AMCV_1E0D22CE527845790A490D4D%40AdobeOrg=-1712354808%7CMCIDTS%7C20100%7CMCMID%7C73334841488148951877815034378287591489%7CMCAID%7CNONE%7CMCOPTOUT-1736603239s%7CNONE%7CvVersion%7C4.3.0; bm_lso=D3877A2E2F0876E307352D4E58882177B7BF582898741C256B551BA54898EE52~YAAQoNxVuMXTd0CUAQAAHqEwVQJC/mKoiIy6+FAqeo8ksNiLpelsOv/2KubENLDuQL4TVcGVTr18dmGrr9Ld8ebVRlOSxz0upEJA948KLb76bc2nMaBX1Y4RnPUvMM67PBFYnDgOzVkX0AIzyipUDK5iEvSQs2vVJD5OuYAUNg6v0aELPJWwtXFfTWy4WusTx2C3ILQr7UuNOrjMH0tHlSuoUuON9W/+cZAdG6r+mTSz4cxjrsFLHrhdiCUeV9LlkfULYcD27OhjyR7eAhkhTBOFI00fyEeb/4h7rwbx9ktz6HQ4aFO2dCxHKPmJX4cligG45qkMk/SKRA/164Hi44/HRNSOf5SbZcQhuZRLLB/jHjQbBX0m68ljyX1hXqgj4rWwm07dn1TmR4yvYNU0ELLVwykULXEcgOda7qsCUA6F91wL6KnM7si295bezp1ATWMLzo+cX/bH8njO2n0oMp9/A8tMg3S3sBpG+8nZ0nV5oUx5+0u3AVi0Yw==^1736596040447; bm_so=FEDD6D6B9785A52FF7AC7CC20045F5A21CD283192A60CBFBD0738E1A47F3878C~YAAQ59xVuDTpoLeTAQAAcQIxVQKFnwDv3yvpOsH8vIy1Cr8hA5+atY6MNlhGhDzOF0tknW9E2tUlji9bJqNfOjTPMsi+F5Vffzq64WZDcQZnoh06kTHvDA2dKpB0iQ6UZrPR+eRGHE1Jht+oVbY6nwIY+gjngLGDXxkPNQCJXr5DWtjT53icNuTiEwzZNafU5kGCKE0IV2esbfugnXk2/JAh/e06RCl6O11WvatvxSl4cL+d/eABEP4/0MM279JAJgtCEGhQFwuhBpanoXHuHjsIp4HysXnMH59mi1S9UnCsYMC5c8ikGGrct77v6xR0UiMN+mt6kr1tNpYHdigIAN4b4FbqmQqD8n/tS4Mk3DwgGEgQ9vzTRZ55H50Dc+MsnS7PxHVU6NqS2bXb4STg60scFkMRvJsDUR1SENP4k2/lZEoJZWyAmk87k7YX6dlCfisyVOEGwXmKBwxT/wSFInDcNU4PLDjlVQ8fpzz1qNUsrbNAOAauBv2SBQ==; bm_sz=AC71612119EAA8C2D249864490F227A8~YAAQ59xVuDXpoLeTAQAAcQIxVRp1eH/Pt9TMAYfPnHmj76bQ3umivsLS+euA3XSeOJen1ln2181Mce5JaAozmC46Z7Yz+n1cYxL4mtiwDuoShVmIdP9SevFgh4kzgesZTLksMxAnx1PNA68T5oGNF5vw44djvKXPfkwM654NPJyBSfjONMtP/lTj9Md8LeTqG+B3HQbCgsQ3LXMaDO2P3jkoee4OnWpPa8CuB8NSdFKrsgegZeeimBYeMXC2q54oSp2jpQ8R4bLdzrPaq0LbUNnTssdTlQ+fU3FU3G4AUn9FjWC2PuuuI0IU/+NWJvrKrqcxu2WLY+VlPVzQPMUl/Wo61XQuXEM8a2WkPYweIK58TXUoXkP50BajQcTmNRn8DPSnDrTCulcimE6LDxjMdBSkjDF3Up5sLQ2i+CbyYxnQiRsvfCUkXOZt1nZFcOltQ2bINisiGOwX3BOO+5Re/sPxwVP/cUNQxFHoKO/Q8ohhg21L~3551302~4338999; s_pers=%20s_vnum%3D1738348200047%2526vn%253D1%7C1738348200047%3B%20s_depth%3D4%7C1736597839956%3B%20s_lv%3D1736596466755%7C1831204466755%3B%20s_lv_s%3DFirst%2520Visit%7C1736598266755%3B%20gpv_pn%3Dfunnel%253Adomestic%2520hotels%253Alisting%7C1736598266757%3B%20s_invisit%3Dtrue%7C1736598266758%3B%20s_nr3650%3D1736596466758-New%7C2051956466758%3B%20s_nr30%3D1736596466758-New%7C1739188466758%3B%20s_nr120%3D1736596466758-New%7C1746964466758%3B%20s_nr7%3D1736596466759-New%7C1737201266759%3B; MMYTUUID=24617072-3124-5274-7370-32762f7a2468.1736596492565724; bm_s=YAAQt9xVuMfp+DmUAQAAg5M3VQIdgotZWPxzs6RDZKq2BTpKkC/25+fG8u+gs+pAmAVBdiiY/eaTkxbJSTg2nZfSw5I3i9Tk4lx2IHZ15/01Yo334REIuAxPMybV1ZxDFSPEXP5n5MNV9o4tTbuP2SlI4qjsF77bzWPkqgNppTobiOFkf3XRvMNomMIGm03UFA6c02Rtpaf3SKuDBg1oa2lQ7/aSWezqBSBgLwAzsuChSIRyuAbJQ+DRnfE0YkX2uJBIlXevFy1PES+v5mCkdDaeCq0uONFZFbC6F3JtZeyll6JTUIIDd+JfLZQkTn6oCgW3OOWI6xIHvLDG7dAT7yWZmR8TEFbW4jxP48ai87EQ1Tz7jgIvkhs6n364KdPxMwtTi60j62o66lCFN2scsKOHzi6q6Gal4kEXq5niu076YONhRdvSnRelY98bmSGS/ssHW9QI1S5nOwHBHr1F/LpRzFfHwFU=; s_sess=%20s_cc%3Dtrue%3B%20s_sq%3D%3B%20tp%3D6651%3B%20s_ppv%3Dfunnel%25253Adomestic%252520hotels%25253Alisting%252C86%252C58%252C5741.25%3B; visitNumber=%7B%22number%22%3A1%2C%22time%22%3A1736596817317%7D\",\n",
    "      \"Referer\": \"https://www.makemytrip.com/\",\n",
    "      \"Referrer-Policy\": \"strict-origin-when-cross-origin\"\n",
    "    }\n",
    "}\n"
   ]
  },
  {
   "cell_type": "code",
   "execution_count": 100,
   "id": "c02aa594",
   "metadata": {},
   "outputs": [
    {
     "data": {
      "text/plain": [
       "{\n",
       "  deviceDetails: {\n",
       "    appVersion: \u001b[32m\"131.0.0.0\"\u001b[39m,\n",
       "    deviceId: \u001b[32m\"10796d34-ecfc-4a74-ae40-679a5504eb4d\"\u001b[39m,\n",
       "    bookingDevice: \u001b[32m\"DESKTOP\"\u001b[39m,\n",
       "    networkType: \u001b[32m\"WiFi\"\u001b[39m,\n",
       "    deviceType: \u001b[32m\"DESKTOP\"\u001b[39m,\n",
       "    deviceName: \u001b[1mnull\u001b[22m\n",
       "  },\n",
       "  filterRemovedCriteria: \u001b[1mnull\u001b[22m,\n",
       "  searchCriteria: {\n",
       "    checkIn: \u001b[32m\"2025-01-15\"\u001b[39m,\n",
       "    checkOut: \u001b[32m\"2025-01-16\"\u001b[39m,\n",
       "    limit: \u001b[33m10\u001b[39m,\n",
       "    roomStayCandidates: [ { rooms: \u001b[33m1\u001b[39m, adultCount: \u001b[33m1\u001b[39m, childAges: [] } ],\n",
       "    countryCode: \u001b[32m\"IN\"\u001b[39m,\n",
       "    cityCode: \u001b[32m\"CTXAR\"\u001b[39m,\n",
       "    locationId: \u001b[32m\"CTXAR\"\u001b[39m,\n",
       "    locationType: \u001b[32m\"city\"\u001b[39m,\n",
       "    currency: \u001b[32m\"INR\"\u001b[39m,\n",
       "    preAppliedFilter: \u001b[33mfalse\u001b[39m,\n",
       "    userSearchType: \u001b[32m\"city\"\u001b[39m,\n",
       "    lastHotelId: \u001b[32m\"201801151116517909\"\u001b[39m,\n",
       "    lastHotelCategory: \u001b[32m\"\"\u001b[39m,\n",
       "    personalizedSearch: \u001b[33mtrue\u001b[39m,\n",
       "    nearBySearch: \u001b[33mfalse\u001b[39m,\n",
       "    totalHotelsShown: \u001b[33m75\u001b[39m,\n",
       "    personalCorpBooking: \u001b[33mfalse\u001b[39m,\n",
       "    rmDHS: \u001b[33mfalse\u001b[39m,\n",
       "    lastFetchedWindowInfo: \u001b[32m\"000000000000000000000000001000#11#41#false\"\u001b[39m\n",
       "  },\n",
       "  requestDetails: {\n",
       "    visitorId: \u001b[32m\"d43b092e-afdb-4c06-aa18-a1843820785b\"\u001b[39m,\n",
       "    visitNumber: \u001b[33m1\u001b[39m,\n",
       "    trafficSource: \u001b[1mnull\u001b[22m,\n",
       "    funnelSource: \u001b[32m\"HOTELS\"\u001b[39m,\n",
       "    idContext: \u001b[32m\"B2C\"\u001b[39m,\n",
       "    pageContext: \u001b[32m\"LISTING\"\u001b[39m,\n",
       "    channel: \u001b[32m\"B2Cweb\"\u001b[39m,\n",
       "    journeyId: \u001b[32m\"-39801111410796d34-ecfc-4a74-ae40-679a5504eb4d\"\u001b[39m,\n",
       "    requestId: \u001b[32m\"1c31f1b3-378a-4eb3-b7fb-0e0ce83c91a1\"\u001b[39m,\n",
       "    couponCount: \u001b[33m2\u001b[39m,\n",
       "    seoCorp: \u001b[33mfalse\u001b[39m,\n",
       "    loggedIn: \u001b[33mfalse\u001b[39m,\n",
       "    forwardBookingFlow: \u001b[33mfalse\u001b[39m\n",
       "  },\n",
       "  featureFlags: {\n",
       "    soldOut: \u001b[33mtrue\u001b[39m,\n",
       "    staticData: \u001b[33mtrue\u001b[39m,\n",
       "    extraAltAccoRequired: \u001b[33mfalse\u001b[39m,\n",
       "    freeCancellation: \u001b[33mtrue\u001b[39m,\n",
       "    coupon: \u001b[33mtrue\u001b[39m,\n",
       "    walletRequired: \u001b[33mtrue\u001b[39m,\n",
       "    poisRequiredOnMap: \u001b[33mtrue\u001b[39m,\n",
       "    mmtPrime: \u001b[33mfalse\u001b[39m,\n",
       "    checkAvailability: \u001b[33mtrue\u001b[39m,\n",
       "    reviewSummaryRequired: \u001b[33mtrue\u001b[39m,\n",
       "    persuasionSeg: \u001b[32m\"P1000\"\u001b[39m,\n",
       "    persuasionsRequired: \u001b[33mtrue\u001b[39m,\n",
       "    persuasionsEngineHit: \u001b[33mtrue\u001b[39m,\n",
       "    shortlistingRequired: \u001b[33mfalse\u001b[39m,\n",
       "    similarHotel: \u001b[33mfalse\u001b[39m,\n",
       "    personalizedSearch: \u001b[33mtrue\u001b[39m,\n",
       "    originListingMap: \u001b[33mfalse\u001b[39m,\n",
       "    selectiveHotels: \u001b[33mfalse\u001b[39m,\n",
       "    seoDS: \u001b[33mfalse\u001b[39m,\n",
       "    flashDealClaimed: \u001b[33mfalse\u001b[39m,\n",
       "    showRushDealsBottomSheet: \u001b[33mtrue\u001b[39m,\n",
       "    persuasionSuppression: \u001b[33mfalse\u001b[39m\n",
       "  },\n",
       "  imageDetails: {\n",
       "    types: [ \u001b[32m\"professional\"\u001b[39m ],\n",
       "    categories: [\n",
       "      {\n",
       "        type: \u001b[32m\"H\"\u001b[39m,\n",
       "        count: \u001b[33m1\u001b[39m,\n",
       "        height: \u001b[33m162\u001b[39m,\n",
       "        width: \u001b[33m243\u001b[39m,\n",
       "        imageFormat: \u001b[32m\"webp\"\u001b[39m\n",
       "      }\n",
       "    ]\n",
       "  },\n",
       "  reviewDetails: {\n",
       "    otas: [ \u001b[32m\"MMT\"\u001b[39m, \u001b[32m\"TA\"\u001b[39m, \u001b[32m\"MANUAL\"\u001b[39m ],\n",
       "    tagTypes: [ \u001b[32m\"BASE\"\u001b[39m, \u001b[32m\"WHAT_GUESTS_SAY\"\u001b[39m ]\n",
       "  },\n",
       "  filterCriteria: [],\n",
       "  matchMakerDetails: {},\n",
       "  sortCriteria: { field: \u001b[32m\"price\"\u001b[39m, order: \u001b[32m\"desc\"\u001b[39m },\n",
       "  expData: \u001b[32m\"{APE:10,PAH:5,PAH5:T,WPAH:F,BNPL:T,MRS:T,PDO:PN,MCUR:T,ADDON:T,CHPC:T,AARI:T,NLP:Y,RCPN:T,PLRS:T,MMRVER:V3,BLACK:T,IAO:F,BNPL0:T,EMIDT:1,HAFC:T,ALC:T,LSTNRBY:T,HIS:DEFAULT,HFC:F,VIDEO:0,MLOS:T,CV2:T,SOU:T,APT:T,AIP:T,PERNEW:T,RTBC:T,FLTRPRCBKT:T,UGCV2:T,CRF:B,GALLERYV2:T}\"\u001b[39m,\n",
       "  appliedBatchKeys: [],\n",
       "  userLocation: { city: \u001b[32m\"CTBOM\"\u001b[39m, state: \u001b[32m\"STMHRA\"\u001b[39m, country: \u001b[32m\"IN\"\u001b[39m },\n",
       "  hotelHighlightCities: [ \u001b[32m\"DUBW\"\u001b[39m, \u001b[32m\"NYC\"\u001b[39m ]\n",
       "}"
      ]
     },
     "execution_count": 100,
     "metadata": {},
     "output_type": "execute_result"
    }
   ],
   "source": [
    "const body = JSON.parse(\"{\\\"deviceDetails\\\":{\\\"appVersion\\\":\\\"131.0.0.0\\\",\\\"deviceId\\\":\\\"10796d34-ecfc-4a74-ae40-679a5504eb4d\\\",\\\"bookingDevice\\\":\\\"DESKTOP\\\",\\\"networkType\\\":\\\"WiFi\\\",\\\"deviceType\\\":\\\"DESKTOP\\\",\\\"deviceName\\\":null},\\\"filterRemovedCriteria\\\":null,\\\"searchCriteria\\\":{\\\"checkIn\\\":\\\"2025-01-15\\\",\\\"checkOut\\\":\\\"2025-01-16\\\",\\\"limit\\\":10,\\\"roomStayCandidates\\\":[{\\\"rooms\\\":1,\\\"adultCount\\\":1,\\\"childAges\\\":[]}],\\\"countryCode\\\":\\\"IN\\\",\\\"cityCode\\\":\\\"CTXAR\\\",\\\"locationId\\\":\\\"CTXAR\\\",\\\"locationType\\\":\\\"city\\\",\\\"currency\\\":\\\"INR\\\",\\\"preAppliedFilter\\\":false,\\\"userSearchType\\\":\\\"city\\\",\\\"lastHotelId\\\":\\\"201801151116517909\\\",\\\"lastHotelCategory\\\":\\\"\\\",\\\"personalizedSearch\\\":true,\\\"nearBySearch\\\":false,\\\"totalHotelsShown\\\":75,\\\"personalCorpBooking\\\":false,\\\"rmDHS\\\":false,\\\"lastFetchedWindowInfo\\\":\\\"000000000000000000000000001000#11#41#false\\\"},\\\"requestDetails\\\":{\\\"visitorId\\\":\\\"d43b092e-afdb-4c06-aa18-a1843820785b\\\",\\\"visitNumber\\\":1,\\\"trafficSource\\\":null,\\\"funnelSource\\\":\\\"HOTELS\\\",\\\"idContext\\\":\\\"B2C\\\",\\\"pageContext\\\":\\\"LISTING\\\",\\\"channel\\\":\\\"B2Cweb\\\",\\\"journeyId\\\":\\\"-39801111410796d34-ecfc-4a74-ae40-679a5504eb4d\\\",\\\"requestId\\\":\\\"1c31f1b3-378a-4eb3-b7fb-0e0ce83c91a1\\\",\\\"couponCount\\\":2,\\\"seoCorp\\\":false,\\\"loggedIn\\\":false,\\\"forwardBookingFlow\\\":false},\\\"featureFlags\\\":{\\\"soldOut\\\":true,\\\"staticData\\\":true,\\\"extraAltAccoRequired\\\":false,\\\"freeCancellation\\\":true,\\\"coupon\\\":true,\\\"walletRequired\\\":true,\\\"poisRequiredOnMap\\\":true,\\\"mmtPrime\\\":false,\\\"checkAvailability\\\":true,\\\"reviewSummaryRequired\\\":true,\\\"persuasionSeg\\\":\\\"P1000\\\",\\\"persuasionsRequired\\\":true,\\\"persuasionsEngineHit\\\":true,\\\"shortlistingRequired\\\":false,\\\"similarHotel\\\":false,\\\"personalizedSearch\\\":true,\\\"originListingMap\\\":false,\\\"selectiveHotels\\\":false,\\\"seoDS\\\":false,\\\"flashDealClaimed\\\":false,\\\"showRushDealsBottomSheet\\\":true,\\\"persuasionSuppression\\\":false},\\\"imageDetails\\\":{\\\"types\\\":[\\\"professional\\\"],\\\"categories\\\":[{\\\"type\\\":\\\"H\\\",\\\"count\\\":1,\\\"height\\\":162,\\\"width\\\":243,\\\"imageFormat\\\":\\\"webp\\\"}]},\\\"reviewDetails\\\":{\\\"otas\\\":[\\\"MMT\\\",\\\"TA\\\",\\\"MANUAL\\\"],\\\"tagTypes\\\":[\\\"BASE\\\",\\\"WHAT_GUESTS_SAY\\\"]},\\\"filterCriteria\\\":[],\\\"matchMakerDetails\\\":{},\\\"sortCriteria\\\":{\\\"field\\\":\\\"price\\\",\\\"order\\\":\\\"desc\\\"},\\\"expData\\\":\\\"{APE:10,PAH:5,PAH5:T,WPAH:F,BNPL:T,MRS:T,PDO:PN,MCUR:T,ADDON:T,CHPC:T,AARI:T,NLP:Y,RCPN:T,PLRS:T,MMRVER:V3,BLACK:T,IAO:F,BNPL0:T,EMIDT:1,HAFC:T,ALC:T,LSTNRBY:T,HIS:DEFAULT,HFC:F,VIDEO:0,MLOS:T,CV2:T,SOU:T,APT:T,AIP:T,PERNEW:T,RTBC:T,FLTRPRCBKT:T,UGCV2:T,CRF:B,GALLERYV2:T}\\\",\\\"appliedBatchKeys\\\":[],\\\"userLocation\\\":{\\\"city\\\":\\\"CTBOM\\\",\\\"state\\\":\\\"STMHRA\\\",\\\"country\\\":\\\"IN\\\"},\\\"hotelHighlightCities\\\":[\\\"DUBW\\\",\\\"NYC\\\"]}\")\n",
    "body"
   ]
  },
  {
   "cell_type": "code",
   "execution_count": 101,
   "id": "ab6614a2",
   "metadata": {},
   "outputs": [],
   "source": [
    "const xx = await axios.post(\"https://mapi.makemytrip.com/clientbackend/cg/search-hotels/DESKTOP/2?cityCode=CTXAR&language=eng&region=in&currency=INR&idContext=B2C&countryCode=IN&requestId=1c31f1b3-378a-4eb3-b7fb-0e0ce83c91a1\",\n",
    "    body,\n",
    "    headers)"
   ]
  },
  {
   "cell_type": "code",
   "execution_count": 102,
   "id": "ded5a9c0",
   "metadata": {},
   "outputs": [
    {
     "ename": "TypeError",
     "evalue": "Cannot read properties of undefined (reading 'personalizedSections')",
     "output_type": "error",
     "traceback": [
      "Stack trace:",
      "TypeError: Cannot read properties of undefined (reading 'personalizedSections')",
      "    at <anonymous>:1:39"
     ]
    }
   ],
   "source": [
    "xx.data.response.personalizedSections[0].hotels.map((hotel: any) => (hotel.name))"
   ]
  },
  {
   "cell_type": "code",
   "execution_count": 103,
   "id": "5ca6fee6",
   "metadata": {},
   "outputs": [
    {
     "data": {
      "text/plain": [
       "\u001b[32m\"200-OK\"\u001b[39m"
      ]
     },
     "execution_count": 103,
     "metadata": {},
     "output_type": "execute_result"
    }
   ],
   "source": [
    "xx.data"
   ]
  },
  {
   "cell_type": "code",
   "execution_count": 95,
   "id": "cfcd9a90",
   "metadata": {},
   "outputs": [],
   "source": [
    "let res = await fetch(\"https://mapi.makemytrip.com/clientbackend/cg/search-hotels/DESKTOP/2?cityCode=CTXAR&language=eng&region=in&currency=INR&idContext=B2C&countryCode=IN&requestId=1c31f1b3-378a-4eb3-b7fb-0e0ce83c91a1\", {\n",
    "    \"headers\": {\n",
    "      \"accept\": \"application/json\",\n",
    "      \"accept-language\": \"en-US,en;q=0.9,en-IN;q=0.8\",\n",
    "      \"cache-control\": \"no-cache\",\n",
    "      \"content-type\": \"application/json\",\n",
    "      \"currency\": \"INR\",\n",
    "      \"language\": \"eng\",\n",
    "      \"os\": \"desktop\",\n",
    "      \"pragma\": \"no-cache\",\n",
    "      \"priority\": \"u=1, i\",\n",
    "      \"region\": \"in\",\n",
    "      \"sec-ch-ua\": \"\\\"Microsoft Edge\\\";v=\\\"131\\\", \\\"Chromium\\\";v=\\\"131\\\", \\\"Not_A Brand\\\";v=\\\"24\\\"\",\n",
    "      \"sec-ch-ua-mobile\": \"?0\",\n",
    "      \"sec-ch-ua-platform\": \"\\\"Windows\\\"\",\n",
    "      \"sec-fetch-dest\": \"empty\",\n",
    "      \"sec-fetch-mode\": \"cors\",\n",
    "      \"sec-fetch-site\": \"same-site\",\n",
    "      \"server\": \"b2c\",\n",
    "      \"tid\": \"avc\",\n",
    "      \"user-currency\": \"INR\",\n",
    "      \"vid\": \"d43b092e-afdb-4c06-aa18-a1843820785b\",\n",
    "      \"visitor-id\": \"d43b092e-afdb-4c06-aa18-a1843820785b\",\n",
    "      \"cookie\": \"isGdprRegion=0; ccde=IN; country=IN; userCurrency=INR; dvid=10796d34-ecfc-4a74-ae40-679a5504eb4d; lang=eng; referrer=%7B%22referer%22%3A%22https%3A%2F%2Fwww.google.com%2F%22%7D; bm_ss=ab8e18ef4e; AMCVS_1E0D22CE527845790A490D4D%40AdobeOrg=1; mcid=d43b092e-afdb-4c06-aa18-a1843820785b; _adck_id=7e082d14066147a244381b6bfc5d970d9f7ca125ac7f96c341b6dc08ef93c117; bm_sv=743243C811B7E749F3E9BAF6E26AFDE1~YAAQ6txVuPwI9kOUAQAATt0RVRrV8bOQAT4LUDuvQv7VAumJ7bLdx1H7oN2qaq8zDuXqPZRQc7+u90CbgSxDJM5fGMpbrclXELM+xkLx+oidPDbfTHtXkWM7FCEEEy6ZNVX+vTI7QUDomnMHMFp0/peDEyBoJBeLrczA4S+EzZMoxRGOThsJyBzzsDMadd2nEVmlAqoIF0M28KCGaXNOeW/yI5k5elCBTibuh7pJBf20Zthr0/3/5e6hzQLSILHp74eXHw==~1; bm_mi=0BEBFB3AD6D9CB2484ED3A301345C6EB~YAAQ6txVuIUJ9kOUAQAAjwYSVRq7l48lt+NgPSJHaEv3g2/GVxVQXinC9X++/kFVA9Pu3j7PB/R7VQJZNs7pUBxanFV3wFU8kt5Jw1jl72V3CrHJoN9xnzIPakkkV9848us9HeJVw1f2YcIXSkUMHjTqCu7KGvmgqvtqjqJ1EwWleRoXC8XaGb5io8Wq6WGUq3XKzS2/JfsF3kOvo9DXhGavbA12ERzGjjLiwdz98hcIdri3v1d/HvoxETTb27VkNBUoMaw6v+MwCNGl3MiaMZBzlZeNTiEbFO7s2dKluyNZzmgyORQRa6hCTvbb8ju8zljrqUSmMBgJSCf6jh0WPRVodlN/o4g=~1; ak_bmsc=3519666AF0F05719F542A73D1905577F~000000000000000000000000000000~YAAQz68sMYxmH0SUAQAAPx0TVRoGxA8pZZr1cI29SQ/4YDrtNvKBKRRUYrEBPjtQPNJoTtCy5lLWvKgw6nnZe7Nsoa538zPEODBP3U/Nw+pzgnU07LEiBoq57ppfyfOwM9oy3v9TZTFDaDBFV8R2oM+WueLfBEx0/vf52R5bKmas4y1uWbuNzvqKkVVUJ0Y4uxPMaH1oAsAVUu8KJDdkSntcSYbQSdMIMIy2pggy+Wv9uZoeZlTAuecO/UZWVoimqkbpeCkCPUIWzy/9y8/PHJQ1ZKpmE4F9QwyPPG7KCViHFFlCtdeDaZ3S9x5VHSY3dTkfKDWKGMfEK4YKL9qgrtYNKaQidKa/n7YjaMaaDKgldAKrsNojkMlZq0aDGPJ1W3I7OBv+OH1pj8SfucM6Kia8dDfqGB7MT/ryuFCuNKJOUtWyUmDfsCv6+c6P2k3IB+uIN6HRodVLOK0fCr2mP7Ikp8/1XR3tnA0f3G+9oDc=; _abck=8B84FEE9AABE36FE0C9F5693357FE3F5~0~YAAQoNxVuMjTd0CUAQAAuqIwVQ0YsxY4BwcdmFkI5BToOX/Wq/P1bG+VEOiMm6UOnto5dddjF9Yq7auL57zPEr4s/SDzKuu7mvc+WDeulh2+z9XPG23QLQp6aoEMGHacdKvRkNVLKKSdnkA+GgWAMcY6V/uyw/rOotRRS2KqD06vGRqg3XW1M5AZDTUuNUCm9x25HynnL83wkWpls+vUV168sozjntz2dDM9oOb537VHlIpESeyWuIW8gKMmfVSEzsTWgNfpQOosQukAw1lhtU1aTSmL6nrQlLFCKYLYMxtA2kvzFh2LSsjGIj8bvwSdV5UTshtRk2+f7VOHOEnA/zJAeEn2k0kmwIYnBhvSMre4RbVW6YxYAsa04YyhbXsEfti7RHDPJzQ5s3Qgrd3iEe2C3ZHTyeSiy+/FTB52klK2Jg+ag0EJyd0MK0YMFVzng70bCJt9MI2C0EvJJMbwQ8tXtCOZ9bTrA2MZAGmzaOdN3w4uOQ==~-1~-1~-1; AMCV_1E0D22CE527845790A490D4D%40AdobeOrg=-1712354808%7CMCIDTS%7C20100%7CMCMID%7C73334841488148951877815034378287591489%7CMCAID%7CNONE%7CMCOPTOUT-1736603239s%7CNONE%7CvVersion%7C4.3.0; bm_lso=D3877A2E2F0876E307352D4E58882177B7BF582898741C256B551BA54898EE52~YAAQoNxVuMXTd0CUAQAAHqEwVQJC/mKoiIy6+FAqeo8ksNiLpelsOv/2KubENLDuQL4TVcGVTr18dmGrr9Ld8ebVRlOSxz0upEJA948KLb76bc2nMaBX1Y4RnPUvMM67PBFYnDgOzVkX0AIzyipUDK5iEvSQs2vVJD5OuYAUNg6v0aELPJWwtXFfTWy4WusTx2C3ILQr7UuNOrjMH0tHlSuoUuON9W/+cZAdG6r+mTSz4cxjrsFLHrhdiCUeV9LlkfULYcD27OhjyR7eAhkhTBOFI00fyEeb/4h7rwbx9ktz6HQ4aFO2dCxHKPmJX4cligG45qkMk/SKRA/164Hi44/HRNSOf5SbZcQhuZRLLB/jHjQbBX0m68ljyX1hXqgj4rWwm07dn1TmR4yvYNU0ELLVwykULXEcgOda7qsCUA6F91wL6KnM7si295bezp1ATWMLzo+cX/bH8njO2n0oMp9/A8tMg3S3sBpG+8nZ0nV5oUx5+0u3AVi0Yw==^1736596040447; bm_so=FEDD6D6B9785A52FF7AC7CC20045F5A21CD283192A60CBFBD0738E1A47F3878C~YAAQ59xVuDTpoLeTAQAAcQIxVQKFnwDv3yvpOsH8vIy1Cr8hA5+atY6MNlhGhDzOF0tknW9E2tUlji9bJqNfOjTPMsi+F5Vffzq64WZDcQZnoh06kTHvDA2dKpB0iQ6UZrPR+eRGHE1Jht+oVbY6nwIY+gjngLGDXxkPNQCJXr5DWtjT53icNuTiEwzZNafU5kGCKE0IV2esbfugnXk2/JAh/e06RCl6O11WvatvxSl4cL+d/eABEP4/0MM279JAJgtCEGhQFwuhBpanoXHuHjsIp4HysXnMH59mi1S9UnCsYMC5c8ikGGrct77v6xR0UiMN+mt6kr1tNpYHdigIAN4b4FbqmQqD8n/tS4Mk3DwgGEgQ9vzTRZ55H50Dc+MsnS7PxHVU6NqS2bXb4STg60scFkMRvJsDUR1SENP4k2/lZEoJZWyAmk87k7YX6dlCfisyVOEGwXmKBwxT/wSFInDcNU4PLDjlVQ8fpzz1qNUsrbNAOAauBv2SBQ==; bm_sz=AC71612119EAA8C2D249864490F227A8~YAAQ59xVuDXpoLeTAQAAcQIxVRp1eH/Pt9TMAYfPnHmj76bQ3umivsLS+euA3XSeOJen1ln2181Mce5JaAozmC46Z7Yz+n1cYxL4mtiwDuoShVmIdP9SevFgh4kzgesZTLksMxAnx1PNA68T5oGNF5vw44djvKXPfkwM654NPJyBSfjONMtP/lTj9Md8LeTqG+B3HQbCgsQ3LXMaDO2P3jkoee4OnWpPa8CuB8NSdFKrsgegZeeimBYeMXC2q54oSp2jpQ8R4bLdzrPaq0LbUNnTssdTlQ+fU3FU3G4AUn9FjWC2PuuuI0IU/+NWJvrKrqcxu2WLY+VlPVzQPMUl/Wo61XQuXEM8a2WkPYweIK58TXUoXkP50BajQcTmNRn8DPSnDrTCulcimE6LDxjMdBSkjDF3Up5sLQ2i+CbyYxnQiRsvfCUkXOZt1nZFcOltQ2bINisiGOwX3BOO+5Re/sPxwVP/cUNQxFHoKO/Q8ohhg21L~3551302~4338999; s_pers=%20s_vnum%3D1738348200047%2526vn%253D1%7C1738348200047%3B%20s_depth%3D4%7C1736597839956%3B%20s_lv%3D1736596466755%7C1831204466755%3B%20s_lv_s%3DFirst%2520Visit%7C1736598266755%3B%20gpv_pn%3Dfunnel%253Adomestic%2520hotels%253Alisting%7C1736598266757%3B%20s_invisit%3Dtrue%7C1736598266758%3B%20s_nr3650%3D1736596466758-New%7C2051956466758%3B%20s_nr30%3D1736596466758-New%7C1739188466758%3B%20s_nr120%3D1736596466758-New%7C1746964466758%3B%20s_nr7%3D1736596466759-New%7C1737201266759%3B; MMYTUUID=24617072-3124-5274-7370-32762f7a2468.1736596492565724; bm_s=YAAQt9xVuMfp+DmUAQAAg5M3VQIdgotZWPxzs6RDZKq2BTpKkC/25+fG8u+gs+pAmAVBdiiY/eaTkxbJSTg2nZfSw5I3i9Tk4lx2IHZ15/01Yo334REIuAxPMybV1ZxDFSPEXP5n5MNV9o4tTbuP2SlI4qjsF77bzWPkqgNppTobiOFkf3XRvMNomMIGm03UFA6c02Rtpaf3SKuDBg1oa2lQ7/aSWezqBSBgLwAzsuChSIRyuAbJQ+DRnfE0YkX2uJBIlXevFy1PES+v5mCkdDaeCq0uONFZFbC6F3JtZeyll6JTUIIDd+JfLZQkTn6oCgW3OOWI6xIHvLDG7dAT7yWZmR8TEFbW4jxP48ai87EQ1Tz7jgIvkhs6n364KdPxMwtTi60j62o66lCFN2scsKOHzi6q6Gal4kEXq5niu076YONhRdvSnRelY98bmSGS/ssHW9QI1S5nOwHBHr1F/LpRzFfHwFU=; s_sess=%20s_cc%3Dtrue%3B%20s_sq%3D%3B%20tp%3D6651%3B%20s_ppv%3Dfunnel%25253Adomestic%252520hotels%25253Alisting%252C86%252C58%252C5741.25%3B; visitNumber=%7B%22number%22%3A1%2C%22time%22%3A1736596817317%7D\",\n",
    "      \"Referer\": \"https://www.makemytrip.com/\",\n",
    "      \"Referrer-Policy\": \"strict-origin-when-cross-origin\"\n",
    "    },\n",
    "    \"body\": \"{\\\"deviceDetails\\\":{\\\"appVersion\\\":\\\"131.0.0.0\\\",\\\"deviceId\\\":\\\"10796d34-ecfc-4a74-ae40-679a5504eb4d\\\",\\\"bookingDevice\\\":\\\"DESKTOP\\\",\\\"networkType\\\":\\\"WiFi\\\",\\\"deviceType\\\":\\\"DESKTOP\\\",\\\"deviceName\\\":null},\\\"filterRemovedCriteria\\\":null,\\\"searchCriteria\\\":{\\\"checkIn\\\":\\\"2025-01-15\\\",\\\"checkOut\\\":\\\"2025-01-16\\\",\\\"limit\\\":10,\\\"roomStayCandidates\\\":[{\\\"rooms\\\":1,\\\"adultCount\\\":1,\\\"childAges\\\":[]}],\\\"countryCode\\\":\\\"IN\\\",\\\"cityCode\\\":\\\"CTXAR\\\",\\\"locationId\\\":\\\"CTXAR\\\",\\\"locationType\\\":\\\"city\\\",\\\"currency\\\":\\\"INR\\\",\\\"preAppliedFilter\\\":false,\\\"userSearchType\\\":\\\"city\\\",\\\"lastHotelId\\\":\\\"201801151116517909\\\",\\\"lastHotelCategory\\\":\\\"\\\",\\\"personalizedSearch\\\":true,\\\"nearBySearch\\\":false,\\\"totalHotelsShown\\\":75,\\\"personalCorpBooking\\\":false,\\\"rmDHS\\\":false,\\\"lastFetchedWindowInfo\\\":\\\"000000000000000000000000001000#11#41#false\\\"},\\\"requestDetails\\\":{\\\"visitorId\\\":\\\"d43b092e-afdb-4c06-aa18-a1843820785b\\\",\\\"visitNumber\\\":1,\\\"trafficSource\\\":null,\\\"funnelSource\\\":\\\"HOTELS\\\",\\\"idContext\\\":\\\"B2C\\\",\\\"pageContext\\\":\\\"LISTING\\\",\\\"channel\\\":\\\"B2Cweb\\\",\\\"journeyId\\\":\\\"-39801111410796d34-ecfc-4a74-ae40-679a5504eb4d\\\",\\\"requestId\\\":\\\"1c31f1b3-378a-4eb3-b7fb-0e0ce83c91a1\\\",\\\"couponCount\\\":2,\\\"seoCorp\\\":false,\\\"loggedIn\\\":false,\\\"forwardBookingFlow\\\":false},\\\"featureFlags\\\":{\\\"soldOut\\\":true,\\\"staticData\\\":true,\\\"extraAltAccoRequired\\\":false,\\\"freeCancellation\\\":true,\\\"coupon\\\":true,\\\"walletRequired\\\":true,\\\"poisRequiredOnMap\\\":true,\\\"mmtPrime\\\":false,\\\"checkAvailability\\\":true,\\\"reviewSummaryRequired\\\":true,\\\"persuasionSeg\\\":\\\"P1000\\\",\\\"persuasionsRequired\\\":true,\\\"persuasionsEngineHit\\\":true,\\\"shortlistingRequired\\\":false,\\\"similarHotel\\\":false,\\\"personalizedSearch\\\":true,\\\"originListingMap\\\":false,\\\"selectiveHotels\\\":false,\\\"seoDS\\\":false,\\\"flashDealClaimed\\\":false,\\\"showRushDealsBottomSheet\\\":true,\\\"persuasionSuppression\\\":false},\\\"imageDetails\\\":{\\\"types\\\":[\\\"professional\\\"],\\\"categories\\\":[{\\\"type\\\":\\\"H\\\",\\\"count\\\":1,\\\"height\\\":162,\\\"width\\\":243,\\\"imageFormat\\\":\\\"webp\\\"}]},\\\"reviewDetails\\\":{\\\"otas\\\":[\\\"MMT\\\",\\\"TA\\\",\\\"MANUAL\\\"],\\\"tagTypes\\\":[\\\"BASE\\\",\\\"WHAT_GUESTS_SAY\\\"]},\\\"filterCriteria\\\":[],\\\"matchMakerDetails\\\":{},\\\"sortCriteria\\\":{\\\"field\\\":\\\"price\\\",\\\"order\\\":\\\"desc\\\"},\\\"expData\\\":\\\"{APE:10,PAH:5,PAH5:T,WPAH:F,BNPL:T,MRS:T,PDO:PN,MCUR:T,ADDON:T,CHPC:T,AARI:T,NLP:Y,RCPN:T,PLRS:T,MMRVER:V3,BLACK:T,IAO:F,BNPL0:T,EMIDT:1,HAFC:T,ALC:T,LSTNRBY:T,HIS:DEFAULT,HFC:F,VIDEO:0,MLOS:T,CV2:T,SOU:T,APT:T,AIP:T,PERNEW:T,RTBC:T,FLTRPRCBKT:T,UGCV2:T,CRF:B,GALLERYV2:T}\\\",\\\"appliedBatchKeys\\\":[],\\\"userLocation\\\":{\\\"city\\\":\\\"CTBOM\\\",\\\"state\\\":\\\"STMHRA\\\",\\\"country\\\":\\\"IN\\\"},\\\"hotelHighlightCities\\\":[\\\"DUBW\\\",\\\"NYC\\\"]}\",\n",
    "    \"method\": \"POST\"\n",
    "  });"
   ]
  },
  {
   "cell_type": "code",
   "execution_count": 96,
   "id": "e680e10b",
   "metadata": {},
   "outputs": [
    {
     "data": {
      "text/plain": [
       "\u001b[32m\"200-OK\"\u001b[39m"
      ]
     },
     "execution_count": 96,
     "metadata": {},
     "output_type": "execute_result"
    }
   ],
   "source": [
    "await res.text()\n"
   ]
  },
  {
   "cell_type": "markdown",
   "id": "697eaf41bfa3dcb3",
   "metadata": {},
   "source": [
    "# TEST 2 "
   ]
  },
  {
   "cell_type": "code",
   "execution_count": 1,
   "id": "1b9d11d381f3c748",
   "metadata": {
    "jupyter": {
     "is_executing": true
    }
   },
   "outputs": [],
   "source": [
    "import axios from \"https://deno.land/x/axiod/mod.ts\";"
   ]
  },
  {
   "cell_type": "code",
   "execution_count": 4,
   "id": "9c7340870865fa73",
   "metadata": {},
   "outputs": [],
   "source": [
    "const a = await axios.post(\"https://mapi.makemytrip.com/clientbackend/cg/search-hotels/DESKTOP/2?cityCode=CTXAR&language=eng&region=in&currency=INR&idContext=B2C&countryCode=IN&requestId=125d88cd-b339-4f3a-8980-d90a6f6354bb\",\n",
    "  \"{\\\"deviceDetails\\\":{\\\"appVersion\\\":\\\"131.0.0.0\\\",\\\"deviceId\\\":\\\"10796d34-ecfc-4a74-ae40-679a5504eb4d\\\",\\\"bookingDevice\\\":\\\"DESKTOP\\\",\\\"networkType\\\":\\\"WiFi\\\",\\\"deviceType\\\":\\\"DESKTOP\\\",\\\"deviceName\\\":null},\\\"filterRemovedCriteria\\\":null,\\\"searchCriteria\\\":{\\\"checkIn\\\":\\\"2025-01-15\\\",\\\"checkOut\\\":\\\"2025-01-16\\\",\\\"limit\\\":10,\\\"roomStayCandidates\\\":[{\\\"rooms\\\":1,\\\"adultCount\\\":1,\\\"childAges\\\":[]}],\\\"countryCode\\\":\\\"IN\\\",\\\"cityCode\\\":\\\"CTXAR\\\",\\\"locationId\\\":\\\"CTXAR\\\",\\\"locationType\\\":\\\"city\\\",\\\"currency\\\":\\\"INR\\\",\\\"preAppliedFilter\\\":false,\\\"userSearchType\\\":\\\"city\\\",\\\"lastHotelId\\\":\\\"202303191120007211\\\",\\\"lastHotelCategory\\\":\\\"\\\",\\\"personalizedSearch\\\":true,\\\"nearBySearch\\\":false,\\\"totalHotelsShown\\\":5,\\\"personalCorpBooking\\\":false,\\\"rmDHS\\\":false,\\\"lastFetchedWindowInfo\\\":\\\"000000000100000000000000000000#0#30#false\\\"},\\\"requestDetails\\\":{\\\"visitorId\\\":\\\"d43b092e-afdb-4c06-aa18-a1843820785b\\\",\\\"visitNumber\\\":1,\\\"trafficSource\\\":null,\\\"funnelSource\\\":\\\"HOTELS\\\",\\\"idContext\\\":\\\"B2C\\\",\\\"pageContext\\\":\\\"LISTING\\\",\\\"channel\\\":\\\"B2Cweb\\\",\\\"journeyId\\\":\\\"-39801111410796d34-ecfc-4a74-ae40-679a5504eb4d\\\",\\\"requestId\\\":\\\"125d88cd-b339-4f3a-8980-d90a6f6354bb\\\",\\\"couponCount\\\":2,\\\"seoCorp\\\":false,\\\"loggedIn\\\":false,\\\"forwardBookingFlow\\\":false},\\\"featureFlags\\\":{\\\"soldOut\\\":true,\\\"staticData\\\":true,\\\"extraAltAccoRequired\\\":false,\\\"freeCancellation\\\":true,\\\"coupon\\\":true,\\\"walletRequired\\\":true,\\\"poisRequiredOnMap\\\":true,\\\"mmtPrime\\\":false,\\\"checkAvailability\\\":true,\\\"reviewSummaryRequired\\\":true,\\\"persuasionSeg\\\":\\\"P1000\\\",\\\"persuasionsRequired\\\":true,\\\"persuasionsEngineHit\\\":true,\\\"shortlistingRequired\\\":false,\\\"similarHotel\\\":false,\\\"personalizedSearch\\\":true,\\\"originListingMap\\\":false,\\\"selectiveHotels\\\":false,\\\"seoDS\\\":false,\\\"flashDealClaimed\\\":false,\\\"showRushDealsBottomSheet\\\":true,\\\"persuasionSuppression\\\":false},\\\"imageDetails\\\":{\\\"types\\\":[\\\"professional\\\"],\\\"categories\\\":[{\\\"type\\\":\\\"H\\\",\\\"count\\\":1,\\\"height\\\":162,\\\"width\\\":243,\\\"imageFormat\\\":\\\"webp\\\"}]},\\\"reviewDetails\\\":{\\\"otas\\\":[\\\"MMT\\\",\\\"TA\\\",\\\"MANUAL\\\"],\\\"tagTypes\\\":[\\\"BASE\\\",\\\"WHAT_GUESTS_SAY\\\"]},\\\"filterCriteria\\\":[],\\\"matchMakerDetails\\\":{},\\\"sortCriteria\\\":{\\\"field\\\":\\\"price\\\",\\\"order\\\":\\\"desc\\\"},\\\"expData\\\":\\\"{APE:10,PAH:5,PAH5:T,WPAH:F,BNPL:T,MRS:T,PDO:PN,MCUR:T,ADDON:T,CHPC:T,AARI:T,NLP:Y,RCPN:T,PLRS:T,MMRVER:V3,BLACK:T,IAO:F,BNPL0:T,EMIDT:1,HAFC:T,ALC:T,LSTNRBY:T,HIS:DEFAULT,HFC:F,VIDEO:0,MLOS:T,CV2:T,SOU:T,APT:T,AIP:T,PERNEW:T,RTBC:T,FLTRPRCBKT:T,UGCV2:T,CRF:B,GALLERYV2:T}\\\",\\\"appliedBatchKeys\\\":[],\\\"userLocation\\\":{\\\"city\\\":\\\"CTBOM\\\",\\\"state\\\":\\\"STMHRA\\\",\\\"country\\\":\\\"IN\\\"},\\\"hotelHighlightCities\\\":[\\\"DUBW\\\",\\\"NYC\\\"]}\",\n",
    " {\n",
    "  \"headers\": {\n",
    "    \"accept\": \"application/json\",\n",
    "    \"accept-language\": \"en-US,en;q=0.9,en-IN;q=0.8\",\n",
    "    \"cache-control\": \"no-cache\",\n",
    "    \"content-type\": \"application/json\",\n",
    "    \"currency\": \"INR\",\n",
    "    \"language\": \"eng\",\n",
    "    \"os\": \"desktop\",\n",
    "    \"pragma\": \"no-cache\",\n",
    "    \"priority\": \"u=1, i\",\n",
    "    \"region\": \"in\",\n",
    "    \"sec-ch-ua\": \"\\\"Microsoft Edge\\\";v=\\\"131\\\", \\\"Chromium\\\";v=\\\"131\\\", \\\"Not_A Brand\\\";v=\\\"24\\\"\",\n",
    "    \"sec-ch-ua-mobile\": \"?0\",\n",
    "    \"sec-ch-ua-platform\": \"\\\"Windows\\\"\",\n",
    "    \"sec-fetch-dest\": \"empty\",\n",
    "    \"sec-fetch-mode\": \"cors\",\n",
    "    \"sec-fetch-site\": \"same-site\",\n",
    "    \"server\": \"b2c\",\n",
    "    \"tid\": \"avc\",\n",
    "    \"user-currency\": \"INR\",\n",
    "    \"vid\": \"d43b092e-afdb-4c06-aa18-a1843820785b\",\n",
    "    \"visitor-id\": \"d43b092e-afdb-4c06-aa18-a1843820785b\"\n",
    "  }});"
   ]
  },
  {
   "cell_type": "code",
   "execution_count": 6,
   "id": "c6e62746",
   "metadata": {},
   "outputs": [
    {
     "data": {
      "text/plain": [
       "\u001b[32m\"200-OK\"\u001b[39m"
      ]
     },
     "execution_count": 6,
     "metadata": {},
     "output_type": "execute_result"
    }
   ],
   "source": [
    "a.data"
   ]
  },
  {
   "cell_type": "code",
   "execution_count": null,
   "id": "afb93531",
   "metadata": {},
   "outputs": [],
   "source": []
  }
 ],
 "metadata": {
  "kernelspec": {
   "display_name": "Deno",
   "language": "typescript",
   "name": "deno"
  },
  "language_info": {
   "codemirror_mode": "typescript",
   "file_extension": ".ts",
   "mimetype": "text/x.typescript",
   "name": "typescript",
   "nbconvert_exporter": "script",
   "pygments_lexer": "typescript",
   "version": "5.6.2"
  }
 },
 "nbformat": 4,
 "nbformat_minor": 5
}
